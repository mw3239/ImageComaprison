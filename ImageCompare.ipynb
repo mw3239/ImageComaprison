{
 "cells": [
  {
   "cell_type": "code",
   "execution_count": 555,
   "metadata": {},
   "outputs": [],
   "source": [
    "import cv2\n",
    "import numpy as np\n",
    "import glob\n",
    "import pandas as pd"
   ]
  },
  {
   "cell_type": "code",
   "execution_count": 2,
   "metadata": {},
   "outputs": [],
   "source": [
    "imglist = []\n",
    "\n",
    "imgs = [i for i in glob.glob(\"*.ppm\")]\n",
    "for j in imgs:\n",
    "    imglist.append(cv2.imread(j))\n",
    "    \n",
    "crowd = pd.read_csv('Crowd.csv',header=None)\n",
    "me = pd.read_csv('MyPreferences.csv',header=None)"
   ]
  },
  {
   "cell_type": "markdown",
   "metadata": {},
   "source": [
    "I created my preference file as a 40x40 csv table. The below simply iterates through that and finds the three targets that I chose for each query and sorts them into a 40x3 matrix.\n",
    "Note that the 40x40 table will be used for part 5.2."
   ]
  },
  {
   "cell_type": "code",
   "execution_count": 4,
   "metadata": {},
   "outputs": [],
   "source": [
    "mecols = pd.DataFrame(np.zeros([40,4]))\n",
    "\n",
    "for i in range(0,40):\n",
    "    counter = 1\n",
    "    mecols.iloc[i][0] = i+1\n",
    "    for j in range(0,40):\n",
    "        if me.gt(0).iloc[i][j]:\n",
    "            mecols.iloc[i][counter] = j+1\n",
    "            counter = counter + 1"
   ]
  },
  {
   "cell_type": "markdown",
   "metadata": {},
   "source": [
    "Step 1:\n",
    "\n",
    "The below calculates the L1 normalized distances between all 40 images. This was done by hand."
   ]
  },
  {
   "cell_type": "code",
   "execution_count": 414,
   "metadata": {},
   "outputs": [],
   "source": [
    "color_scores = np.zeros((40,40))\n",
    "#The number of leading bits of each channel to use.\n",
    "leading_blue = 3\n",
    "leading_green = 4\n",
    "leading_red = 5\n",
    "\n",
    "#Nested loop: First the query image and then each of its targets. Yes, this is very redundant and every pair of images ended up being compared twice.\n",
    "for i in range(0,len(imglist)):\n",
    "    for j in range(0,len(imglist)):\n",
    "        #First flattens each channel from a 60x80 matrix into a 5340x1 vector. Then converts that into binary, resulting in a 42720x1 vector. \n",
    "        #Finally, we want the binary values to occupy their own rows across 8 columns, so the vectors are reshaed to 5340x8.\n",
    "        #This is done for all 3 channel of both the query image and the target.\n",
    "        binaryb1 = np.reshape(np.unpackbits(imglist[i][:,:,0].flatten(),axis=0), (-1, 8))\n",
    "        binaryg1 = np.reshape(np.unpackbits(imglist[i][:,:,1].flatten(),axis=0), (-1, 8))\n",
    "        binaryr1 = np.reshape(np.unpackbits(imglist[i][:,:,2].flatten(),axis=0), (-1, 8))\n",
    "\n",
    "        binaryb2 = np.reshape(np.unpackbits(imglist[j][:,:,0].flatten(),axis=0), (-1, 8))\n",
    "        binaryg2 = np.reshape(np.unpackbits(imglist[j][:,:,1].flatten(),axis=0), (-1, 8))\n",
    "        binaryr2 = np.reshape(np.unpackbits(imglist[j][:,:,2].flatten(),axis=0), (-1, 8))\n",
    "        \n",
    "        #The first X columns are removed from each of the binary matricies and replaced with 0s, where X is 8-#number of leading bits for that channel.\n",
    "        #These numbers are then converted back from binary into decimal, effectively completing the process of creating bins.\n",
    "        #This results in a 5340x1 vector for each channel.\n",
    "        zerosb = np.zeros((binaryb1.shape[0],(binaryb1.shape[1]-leading_blue)),dtype=int)\n",
    "        zerosg = np.zeros((binaryg1.shape[0],(binaryg1.shape[1]-leading_green)),dtype=int)\n",
    "        zerosr = np.zeros((binaryr1.shape[0],(binaryr1.shape[1]-leading_red)),dtype=int)\n",
    "\n",
    "        reducedb1 = np.packbits(np.column_stack((zerosb,binaryb1[:,0:leading_blue])))\n",
    "        reducedg1 = np.packbits(np.column_stack((zerosg,binaryg1[:,0:leading_green])))\n",
    "        reducedr1 = np.packbits(np.column_stack((zerosr,binaryr1[:,0:leading_red])))\n",
    "\n",
    "        reducedb2 = np.packbits(np.column_stack((zerosb,binaryb2[:,0:leading_blue])))\n",
    "        reducedg2 = np.packbits(np.column_stack((zerosg,binaryg2[:,0:leading_green])))\n",
    "        reducedr2 = np.packbits(np.column_stack((zerosr,binaryr2[:,0:leading_red])))\n",
    "\n",
    "        #Stacks the vectors for each channel into a 5340x3 matrix. reduced1 is the query image and reduced2 is the target.\n",
    "        #The numpy matricies are converted to pandas dataframes for easier grouping and counting operations.\n",
    "        reduced1 = pd.DataFrame(np.stack((reducedb1,reducedg1,reducedr1),axis=1))\n",
    "        reduced2 = pd.DataFrame(np.stack((reducedb2,reducedg2,reducedr2),axis=1))\n",
    "        \n",
    "        #Each column represents a different channel.\n",
    "        reduced1.columns = ['b','g','r']\n",
    "        reduced2.columns = ['b','g','r']\n",
    "        \n",
    "        #We will not count the number of (b,g,r) pairs in both of the data frames. In other words, we're counting how many pixels fall into each of the (b,g,r) bins for both images.\n",
    "        #Note that this is not all-encompassing; some pairs will be absent from one dataframe that are present in the other and some will be absent from both.\n",
    "        reduced1['count'] = 1 \n",
    "        reduced2['count'] = 1 \n",
    "        withcount1 = reduced1.groupby(['b','g','r'])['count'].count()\n",
    "        withcount2 = reduced2.groupby(['b','g','r'])['count'].count()\n",
    "        \n",
    "        #In order to easily count the difference in (b,g,r) pairs between both images, we must join their tables. An outer join is used as that takes the union of both of their \n",
    "        #bin counts.\n",
    "        reduced = withcount1.to_frame().join(withcount2.to_frame(),on=['b','g','r'],how='outer',lsuffix='1',rsuffix='2').fillna(0)\n",
    "        \n",
    "        #Finally, the L1 distance is taken between each of the bin counts. The absolute value is taken, then the sum, and then the value is normalized.\n",
    "        #The result is a 40x40 matrix of distance values between 0 and 1 where 0 means the images have identical colors.\n",
    "        color_scores[i][j] =np.sum(np.absolute(reduced['count1']-reduced['count2']))/(2*imglist[0].shape[0]*imglist[0].shape[1])"
   ]
  },
  {
   "cell_type": "markdown",
   "metadata": {},
   "source": [
    "The below finds the best 3 targets and the worst target for each query."
   ]
  },
  {
   "cell_type": "code",
   "execution_count": 415,
   "metadata": {
    "scrolled": true
   },
   "outputs": [],
   "source": [
    "best_data = []\n",
    "\n",
    "for i in range(0,40):\n",
    "    #Sorts the column pertaining to the query image and finds the 2nd, 3rd, and 4th lowest values (not the first because the lowest value for each image 0 is with itself.)\n",
    "    sorted_col = pd.DataFrame(np.column_stack(((np.arange(1,41,1)),color_scores))).sort_values(by=(i+1))\n",
    "    #The #s of the best 3 targets and the worst.\n",
    "    best3 = sorted_col.iloc[[1,2,3,39]][0]\n",
    "    #The score between 0 and 1 that each of the images had\n",
    "    bestscores = sorted_col.iloc[[1,2,3,39]][i+1]\n",
    "\n",
    "    best_data.append(pd.concat([best3,bestscores],axis=1))"
   ]
  },
  {
   "cell_type": "markdown",
   "metadata": {},
   "source": [
    "Compares the images to the crowd's opinion"
   ]
  },
  {
   "cell_type": "code",
   "execution_count": 416,
   "metadata": {},
   "outputs": [
    {
     "name": "stdout",
     "output_type": "stream",
     "text": [
      "4772 195\n"
     ]
    }
   ],
   "source": [
    "#Each s refers to the score that the crowd gave for the (query, target pair)\n",
    "#1,2,3 for the best matches and 39 for the worst match (Not 40, because I'm not counting the image with itself as the \"best match\")\n",
    "\n",
    "s1 = np.empty(40,dtype=int)\n",
    "s2 = np.empty(40,dtype=int)\n",
    "s3 = np.empty(40,dtype=int)\n",
    "s39 = np.empty(40,dtype=int)\n",
    "scores = np.empty(40,dtype=int)\n",
    "\n",
    "for i in range(0,40):\n",
    "    s1[i] = crowd.iloc[i][(best_data[i].iloc[0][0].astype('int16'))-1]\n",
    "    s2[i] = crowd.iloc[i][(best_data[i].iloc[1][0].astype('int16'))-1]\n",
    "    s3[i] = crowd.iloc[i][(best_data[i].iloc[2][0].astype('int16'))-1]\n",
    "    s39[i] = crowd.iloc[i][(best_data[i].iloc[3][0].astype('int16'))-1]\n",
    "    \n",
    "    scores[i] = s1[i] + s2[i] + s3[i]\n",
    "    \n",
    "print(np.sum(scores),np.sum(s39))"
   ]
  },
  {
   "cell_type": "markdown",
   "metadata": {},
   "source": [
    "Compares the images to my opinion."
   ]
  },
  {
   "cell_type": "code",
   "execution_count": 417,
   "metadata": {},
   "outputs": [],
   "source": [
    "#Simply counts how many images are in the top 3 for both the system and my own opinion by iterating over them and counting how many top 3s are shared.\n",
    "intersect = np.empty(40)\n",
    "\n",
    "for i in range(0,40):\n",
    "    count = 0\n",
    "    for j in range(0,3):\n",
    "        for k in range(0,3):\n",
    "            if best_data[i][0].iloc[j] == mecols.iloc[i][k]:\n",
    "                count = count+1\n",
    "    intersect[i] = count\n",
    "    \n",
    "print(intersect, np.sum(intersect))\n",
    "        "
   ]
  },
  {
   "cell_type": "code",
   "execution_count": 65,
   "metadata": {},
   "outputs": [],
   "source": [
    "colors = np.round(color_scores,3)\n",
    "\n",
    "import csv \n",
    "\n",
    "f = open('scoresb{}g{}r{}.csv'.format(leading_blue,leading_green,leading_red), 'w',newline='')\n",
    "#f = open('colorscores.csv', 'w',newline='')\n",
    "\n",
    "with f:\n",
    "    writer = csv.writer(f)\n",
    "    for row in colors:\n",
    "        writer.writerow(row)"
   ]
  },
  {
   "cell_type": "markdown",
   "metadata": {},
   "source": [
    "Step 2: Texture\n",
    "\n",
    "Converts all images to grayscale and pads them with surrounding 0s. cv2 is used for simplicty's sake. All it does it average over the values for all 3 channels for each pixel.\n",
    "The padding is done manually by appending an extra column of 0s and rows to the right, left, top, and bottom of each image."
   ]
  },
  {
   "cell_type": "code",
   "execution_count": 473,
   "metadata": {},
   "outputs": [],
   "source": [
    "gray = []\n",
    "zerorow = np.zeros((1,89))\n",
    "zerocol = np.zeros((62,1))\n",
    "\n",
    "for i in range(0,40):\n",
    "    grayimg = cv2.cvtColor(imglist[i], cv2.COLOR_BGR2GRAY)\n",
    "    zerotop = np.append(zerorow,grayimg,axis=0)\n",
    "    zerobot = np.append(zerotop,zerorow,axis=0)\n",
    "    zeroleft = np.append(zerocol,zerobot,axis=1)\n",
    "    zeroright = np.append(zeroleft,zerocol,axis=1)\n",
    "    gray.append(zeroright)"
   ]
  },
  {
   "cell_type": "markdown",
   "metadata": {},
   "source": [
    "This performs the Laplacian operation on all pixels of all images.\n",
    "\n",
    "The image it multiplied by 8, and the sum of all surrounding pixels is taken and multiplied by -1.\n",
    "\n",
    "The commented diagrams are meant to illustrate the convultion is operating on at each step.\n",
    "O represents the current pixel\n",
    "\\# represents a surrounding number that is not being operated on at the current step\n",
    "X represents a surrounding number that is affected by the current operation."
   ]
  },
  {
   "cell_type": "code",
   "execution_count": 630,
   "metadata": {},
   "outputs": [],
   "source": [
    "newimglist = []\n",
    "\n",
    "for i in range(0,40):\n",
    "    newvalues = np.zeros((60,89))\n",
    "    for j in range(1,61):\n",
    "        for k in range(1,90):\n",
    "            \n",
    "            posx = j\n",
    "            posy = k\n",
    "            ## # #\n",
    "            # X #\n",
    "            # # #\n",
    "            currentpix = gray[i][posx,posy]\n",
    "\n",
    "            #X X X\n",
    "            ## O #\n",
    "            #X X X            \n",
    "            abovepix = gray[i][[(posx-1),(posx+1)],(posy-1):(posy+2)]\n",
    "\n",
    "            ## # #\n",
    "            #X O X\n",
    "            ## # #\n",
    "            sidepix = gray[i][posx,[posy-1,posy+1]]\n",
    "            \n",
    "            newvalues[j-1][k-1] = (currentpix*8)-(np.sum(abovepix)+np.sum(sidepix))\n",
    "    newimglist.append(np.absolute(newvalues)) "
   ]
  },
  {
   "cell_type": "markdown",
   "metadata": {},
   "source": [
    "Divides each pixel into a bin based on the Laplacian's log_2 value.\n",
    "\n",
    "The number of objects in the bins are then counted and subtracted from each image to obtain their distance."
   ]
  },
  {
   "cell_type": "code",
   "execution_count": 834,
   "metadata": {},
   "outputs": [
    {
     "name": "stderr",
     "output_type": "stream",
     "text": [
      "C:\\Users\\Mike\\Anaconda3\\lib\\site-packages\\ipykernel_launcher.py:5: RuntimeWarning: divide by zero encountered in log2\n",
      "  \"\"\"\n",
      "C:\\Users\\Mike\\Anaconda3\\lib\\site-packages\\ipykernel_launcher.py:6: RuntimeWarning: divide by zero encountered in log2\n",
      "  \n"
     ]
    }
   ],
   "source": [
    "texture_vals = np.zeros((40,40))\n",
    "\n",
    "for i in range(0,len(newimglist)):\n",
    "    for j in range(0,len(newimglist)):        \n",
    "        img1 = np.log2(newimglist[i])\n",
    "        img2 = np.log2(newimglist[j])\n",
    "        \n",
    "        img1[img1 == inf] = 0\n",
    "        img1[img1 == -inf] = 0\n",
    "        img2[img2 == inf] = 0\n",
    "        img2[img2 == -inf] = 0\n",
    "        \n",
    "        img1 = pd.DataFrame(np.round(img1,0).flatten())[0].value_counts()\n",
    "        img2 = pd.DataFrame(np.round(img2,0).flatten())[0].value_counts()\n",
    "               \n",
    "        \n",
    "        bincount = img1.to_frame().join(img2.to_frame(),how=\"outer\",lsuffix='1',rsuffix='2').fillna(0)\n",
    "        texture_vals[i][j] = np.sum(np.absolute(bincount['01']-bincount['02']))/(2*imglist[0].shape[0]*imglist[0].shape[1])     "
   ]
  },
  {
   "cell_type": "markdown",
   "metadata": {},
   "source": [
    "Same method of determining the best 3 vs the crowd as with color "
   ]
  },
  {
   "cell_type": "code",
   "execution_count": 837,
   "metadata": {},
   "outputs": [
    {
     "name": "stdout",
     "output_type": "stream",
     "text": [
      "3787 39\n"
     ]
    }
   ],
   "source": [
    "best_data = []\n",
    "s1 = np.empty(40,dtype=int)\n",
    "s2 = np.empty(40,dtype=int)\n",
    "s3 = np.empty(40,dtype=int)\n",
    "s39 = np.empty(40,dtype=int)\n",
    "scores = np.empty(40,dtype=int)\n",
    "\n",
    "for i in range(0,40):\n",
    "    #Sorts the column pertaining to the query image and finds the 2nd, 3rd, and 4th lowest values (not the first because the lowest value for each image 0 is with itself.)\n",
    "    sorted_col = pd.DataFrame(np.column_stack(((np.arange(1,41,1)),texture_vals))).sort_values(by=(i+1))\n",
    "    #The #s of the best 3 targets and the worst.\n",
    "    best3 = sorted_col.iloc[[1,2,3,39]][0]\n",
    "    #The score between 0 and 1 that each of the images had\n",
    "    bestscores = sorted_col.iloc[[1,2,3,39]][i+1]\n",
    "\n",
    "    best_data.append(pd.concat([best3,bestscores],axis=1))\n",
    "    \n",
    "for i in range(0,40):\n",
    "    s1[i] = crowd.iloc[i][(best_data[i].iloc[0][0].astype('int16'))-1]\n",
    "    s2[i] = crowd.iloc[i][(best_data[i].iloc[1][0].astype('int16'))-1]\n",
    "    s3[i] = crowd.iloc[i][(best_data[i].iloc[2][0].astype('int16'))-1]\n",
    "    s39[i] = crowd.iloc[i][(best_data[i].iloc[3][0].astype('int16'))-1]\n",
    "    \n",
    "    scores[i] = s1[i] + s2[i] + s3[i]\n",
    "    \n",
    "print(np.sum(scores),np.sum(s39))"
   ]
  },
  {
   "cell_type": "markdown",
   "metadata": {},
   "source": [
    "Same method as determining the best 3 vs user as with color"
   ]
  },
  {
   "cell_type": "code",
   "execution_count": 831,
   "metadata": {},
   "outputs": [
    {
     "name": "stdout",
     "output_type": "stream",
     "text": [
      "[1. 0. 1. 0. 0. 0. 1. 2. 0. 1. 0. 0. 1. 1. 0. 0. 0. 0. 0. 0. 0. 0. 0. 0.\n",
      " 0. 0. 0. 1. 1. 1. 0. 0. 0. 1. 0. 0. 0. 2. 0. 0.] 14.0\n"
     ]
    }
   ],
   "source": [
    "intersect = np.empty(40)\n",
    "\n",
    "for i in range(0,40):\n",
    "    count = 0\n",
    "    for j in range(0,3):\n",
    "        for k in range(0,3):\n",
    "            if best_data[i][0].iloc[j] == mecols.iloc[i][k]:\n",
    "                count = count+1\n",
    "    intersect[i] = count\n",
    "    \n",
    "print(intersect, np.sum(intersect))"
   ]
  },
  {
   "cell_type": "markdown",
   "metadata": {},
   "source": [
    "PART 3: Shape\n",
    "\n",
    "Converts each image to binary using cv2's threshold function. The threshold value was hand-picked based on results."
   ]
  },
  {
   "cell_type": "code",
   "execution_count": 1300,
   "metadata": {},
   "outputs": [],
   "source": [
    "binary = []\n",
    "\n",
    "for i in range(0,40):\n",
    "    grayimg = cv2.cvtColor(imglist[i], cv2.COLOR_BGR2GRAY)\n",
    "    ret,thresh = cv2.threshold(grayimg,70,225,cv2.THRESH_BINARY)\n",
    "    #ret,thresh = cv2.threshold(blur,0,255,cv2.THRESH_OTSU+cv2.THRESH_BINARY)\n",
    "    binary.append(thresh)"
   ]
  },
  {
   "cell_type": "markdown",
   "metadata": {},
   "source": [
    "To test the binarizations of images"
   ]
  },
  {
   "cell_type": "code",
   "execution_count": 868,
   "metadata": {},
   "outputs": [],
   "source": [
    "cv2.imshow(\"Bsf\",binary[2])\n",
    "cv2.imshow(\"Binary\",binary[34])\n",
    "cv2.waitKey(0)\n",
    "cv2.destroyAllWindows()"
   ]
  },
  {
   "cell_type": "markdown",
   "metadata": {},
   "source": [
    "Calulates the shape distance between two images by simply counting up how many pixels did not overlap in the binar images"
   ]
  },
  {
   "cell_type": "code",
   "execution_count": 1301,
   "metadata": {},
   "outputs": [],
   "source": [
    "shape_vals = np.zeros((40,40))\n",
    "\n",
    "for i in range(0,40):\n",
    "    for j in range(0,40):\n",
    "        shape_vals[i][j] = np.sum(binary[i]!=binary[j])/(60*89)"
   ]
  },
  {
   "cell_type": "markdown",
   "metadata": {},
   "source": [
    "Same method of determining the best 3 vs the crowd as with color and texture"
   ]
  },
  {
   "cell_type": "code",
   "execution_count": 1302,
   "metadata": {},
   "outputs": [
    {
     "name": "stdout",
     "output_type": "stream",
     "text": [
      "4111 290\n"
     ]
    }
   ],
   "source": [
    "best_data = []\n",
    "s1 = np.empty(40,dtype=int)\n",
    "s2 = np.empty(40,dtype=int)\n",
    "s3 = np.empty(40,dtype=int)\n",
    "s39 = np.empty(40,dtype=int)\n",
    "scores = np.empty(40,dtype=int)\n",
    "\n",
    "for i in range(0,40):\n",
    "    #Sorts the column pertaining to the query image and finds the 2nd, 3rd, and 4th lowest values (not the first because the lowest value for each image 0 is with itself.)\n",
    "    sorted_col = pd.DataFrame(np.column_stack(((np.arange(1,41,1)),shape_vals))).sort_values(by=(i+1))\n",
    "    #The #s of the best 3 targets and the worst.\n",
    "    best3 = sorted_col.iloc[[1,2,3,39]][0]\n",
    "    #The score between 0 and 1 that each of the images had\n",
    "    bestscores = sorted_col.iloc[[1,2,3,39]][i+1]\n",
    "\n",
    "    best_data.append(pd.concat([best3,bestscores],axis=1))\n",
    "    \n",
    "for i in range(0,40):\n",
    "    s1[i] = crowd.iloc[i][(best_data[i].iloc[0][0].astype('int16'))-1]\n",
    "    s2[i] = crowd.iloc[i][(best_data[i].iloc[1][0].astype('int16'))-1]\n",
    "    s3[i] = crowd.iloc[i][(best_data[i].iloc[2][0].astype('int16'))-1]\n",
    "    s39[i] = crowd.iloc[i][(best_data[i].iloc[3][0].astype('int16'))-1]\n",
    "    \n",
    "    scores[i] = s1[i] + s2[i] + s3[i]\n",
    "    \n",
    "print(np.sum(scores),np.sum(s39))"
   ]
  },
  {
   "cell_type": "markdown",
   "metadata": {},
   "source": [
    "Same method of determining the best 3 vs the user as with color and texture"
   ]
  },
  {
   "cell_type": "code",
   "execution_count": 1296,
   "metadata": {},
   "outputs": [
    {
     "name": "stdout",
     "output_type": "stream",
     "text": [
      "[0. 0. 0. 0. 1. 0. 1. 1. 1. 0. 1. 1. 1. 2. 0. 1. 1. 1. 2. 0. 0. 1. 1. 2.\n",
      " 1. 0. 0. 0. 0. 0. 0. 0. 0. 0. 1. 1. 1. 0. 1. 1.] 24.0\n"
     ]
    }
   ],
   "source": [
    "intersect = np.empty(40)\n",
    "\n",
    "for i in range(0,40):\n",
    "    count = 0\n",
    "    for j in range(0,3):\n",
    "        for k in range(0,3):\n",
    "            if best_data[i][0].iloc[j] == mecols.iloc[i][k]:\n",
    "                count = count+1\n",
    "    intersect[i] = count\n",
    "    \n",
    "print(intersect, np.sum(intersect))"
   ]
  },
  {
   "cell_type": "markdown",
   "metadata": {},
   "source": [
    "Optimizing the sytem to incorporate all color, texture, and shape together. The below is used to simulate potential a, b, and c values."
   ]
  },
  {
   "cell_type": "code",
   "execution_count": 1303,
   "metadata": {},
   "outputs": [],
   "source": [
    "a_vec = []\n",
    "b_vec = []\n",
    "c_vec = []\n",
    "thescores = []\n",
    "count = 0\n",
    "\n",
    "while count < 1000:\n",
    "    a = random()\n",
    "    b = random()*(1-a)\n",
    "    c = 1-(a+b)\n",
    "    \n",
    "    scale_color = a*color_scores\n",
    "    scale_text = b*texture_vals\n",
    "    scale_shape = c*shape_vals\n",
    "\n",
    "    scale_vals = scale_color+scale_text+scale_shape\n",
    "    \n",
    "    best_data = []\n",
    "    s1 = np.empty(40,dtype=int)\n",
    "    s2 = np.empty(40,dtype=int)\n",
    "    s3 = np.empty(40,dtype=int)\n",
    "    s39 = np.empty(40,dtype=int)\n",
    "    scores = np.empty(40,dtype=int)\n",
    "\n",
    "    for i in range(0,40):\n",
    "        #Sorts the column pertaining to the query image and finds the 2nd, 3rd, and 4th lowest values (not the first because the lowest value for each image 0 is with itself.)\n",
    "        sorted_col = pd.DataFrame(np.column_stack(((np.arange(1,41,1)),scale_vals))).sort_values(by=(i+1))\n",
    "        #The #s of the best 3 targets and the worst.\n",
    "        best3 = sorted_col.iloc[[1,2,3,39]][0]\n",
    "        #The score between 0 and 1 that each of the images had\n",
    "        bestscores = sorted_col.iloc[[1,2,3,39]][i+1]\n",
    "\n",
    "        best_data.append(pd.concat([best3,bestscores],axis=1))\n",
    "\n",
    "    for i in range(0,40):\n",
    "        s1[i] = crowd.iloc[i][(best_data[i].iloc[0][0].astype('int16'))-1]\n",
    "        s2[i] = crowd.iloc[i][(best_data[i].iloc[1][0].astype('int16'))-1]\n",
    "        s3[i] = crowd.iloc[i][(best_data[i].iloc[2][0].astype('int16'))-1]\n",
    "        s39[i] = crowd.iloc[i][(best_data[i].iloc[3][0].astype('int16'))-1]\n",
    "\n",
    "        scores[i] = s1[i] + s2[i] + s3[i]\n",
    "\n",
    "    a_vec.append(a)\n",
    "    b_vec.append(b)\n",
    "    c_vec.append(c)\n",
    "    thescores.append(np.sum(scores))\n",
    "\n",
    "    count = count+1"
   ]
  },
  {
   "cell_type": "markdown",
   "metadata": {},
   "source": [
    "Returns the a, b, and c values that produced the highest score."
   ]
  },
  {
   "cell_type": "code",
   "execution_count": 1185,
   "metadata": {},
   "outputs": [
    {
     "name": "stdout",
     "output_type": "stream",
     "text": [
      "a:  0.4822628435838102 \t b: 0.3519389087923588 \t c: 0.165798247623831 \t score 6465\n"
     ]
    }
   ],
   "source": [
    "index = thescores.index(np.max(thescores))\n",
    "thescores[index]\n",
    "\n",
    "print(\"a: \",a_vec[index],\"\\t b:\",b_vec[index],\"\\t c:\",c_vec[index],\"\\t score\",thescores[index])"
   ]
  },
  {
   "cell_type": "markdown",
   "metadata": {},
   "source": [
    "These were the highest values as produced above. They're evaluted as normal."
   ]
  },
  {
   "cell_type": "code",
   "execution_count": 1208,
   "metadata": {},
   "outputs": [],
   "source": [
    "a = 0.26\n",
    "b = 0.21\n",
    "c = 1-(a+b)\n",
    "\n",
    "scale_color = a*color_scores\n",
    "scale_text = b*texture_vals\n",
    "scale_shape = c*shape_vals\n",
    "\n",
    "scale_vals = scale_color+scale_text+scale_shape"
   ]
  },
  {
   "cell_type": "markdown",
   "metadata": {},
   "source": [
    "Best 3 targets vs crowd"
   ]
  },
  {
   "cell_type": "code",
   "execution_count": 1209,
   "metadata": {},
   "outputs": [
    {
     "name": "stdout",
     "output_type": "stream",
     "text": [
      "6475 59\n"
     ]
    }
   ],
   "source": [
    "best_data = []\n",
    "s1 = np.empty(40,dtype=int)\n",
    "s2 = np.empty(40,dtype=int)\n",
    "s3 = np.empty(40,dtype=int)\n",
    "s39 = np.empty(40,dtype=int)\n",
    "scores = np.empty(40,dtype=int)\n",
    "\n",
    "for i in range(0,40):\n",
    "    #Sorts the column pertaining to the query image and finds the 2nd, 3rd, and 4th lowest values (not the first because the lowest value for each image 0 is with itself.)\n",
    "    sorted_col = pd.DataFrame(np.column_stack(((np.arange(1,41,1)),scale_vals))).sort_values(by=(i+1))\n",
    "    #The #s of the best 3 targets and the worst.\n",
    "    best3 = sorted_col.iloc[[1,2,3,39]][0]\n",
    "    #The score between 0 and 1 that each of the images had\n",
    "    bestscores = sorted_col.iloc[[1,2,3,39]][i+1]\n",
    "\n",
    "    best_data.append(pd.concat([best3,bestscores],axis=1))\n",
    "    \n",
    "for i in range(0,40):\n",
    "    s1[i] = crowd.iloc[i][(best_data[i].iloc[0][0].astype('int16'))-1]\n",
    "    s2[i] = crowd.iloc[i][(best_data[i].iloc[1][0].astype('int16'))-1]\n",
    "    s3[i] = crowd.iloc[i][(best_data[i].iloc[2][0].astype('int16'))-1]\n",
    "    s39[i] = crowd.iloc[i][(best_data[i].iloc[3][0].astype('int16'))-1]\n",
    "    \n",
    "    scores[i] = s1[i] + s2[i] + s3[i]\n",
    "    \n",
    "print(np.sum(scores),np.sum(s39))"
   ]
  },
  {
   "cell_type": "markdown",
   "metadata": {},
   "source": [
    "Best 3 targets vs self"
   ]
  },
  {
   "cell_type": "code",
   "execution_count": 1210,
   "metadata": {},
   "outputs": [
    {
     "name": "stdout",
     "output_type": "stream",
     "text": [
      "[1. 0. 1. 2. 1. 1. 2. 2. 1. 1. 1. 1. 1. 2. 0. 1. 0. 1. 1. 0. 0. 0. 0. 0.\n",
      " 1. 1. 1. 0. 2. 1. 1. 0. 0. 0. 0. 1. 1. 1. 0. 1.] 31.0\n"
     ]
    }
   ],
   "source": [
    "intersect = np.empty(40)\n",
    "\n",
    "for i in range(0,40):\n",
    "    count = 0\n",
    "    for j in range(0,3):\n",
    "        for k in range(0,3):\n",
    "            if best_data[i][0].iloc[j] == mecols.iloc[i][k]:\n",
    "                count = count+1\n",
    "    intersect[i] = count\n",
    "    \n",
    "print(intersect, np.sum(intersect))"
   ]
  },
  {
   "cell_type": "markdown",
   "metadata": {},
   "source": [
    "Calculates the maximum possible crowd score by taking the 3 highest values in each row and summing them."
   ]
  },
  {
   "cell_type": "code",
   "execution_count": 1272,
   "metadata": {},
   "outputs": [
    {
     "data": {
      "text/plain": [
       "9853"
      ]
     },
     "execution_count": 1272,
     "metadata": {},
     "output_type": "execute_result"
    }
   ],
   "source": [
    "maxcrowd = []\n",
    "\n",
    "for i in range(0,40):\n",
    "    maxcrowd.append(np.sum(np.sort(crowd.iloc[i])[[-1,-2,-3]]))\n",
    "np.sum(maxcrowd)"
   ]
  },
  {
   "cell_type": "markdown",
   "metadata": {},
   "source": [
    "Same maximazation proceduce for color, texture, and shape as before, but this time for my own preferences."
   ]
  },
  {
   "cell_type": "code",
   "execution_count": 1286,
   "metadata": {},
   "outputs": [],
   "source": [
    "a_vec = []\n",
    "b_vec = []\n",
    "c_vec = []\n",
    "thescores = []\n",
    "count = 0\n",
    "\n",
    "while count < 1000:\n",
    "    a = random()\n",
    "    b = random()*(1-a)\n",
    "    c = 1-(a+b)\n",
    "    \n",
    "    scale_color = a*color_scores\n",
    "    scale_text = b*texture_vals\n",
    "    scale_shape = c*shape_vals\n",
    "\n",
    "    scale_vals = scale_color+scale_text+scale_shape\n",
    "    \n",
    "    best_data = []\n",
    "    s1 = np.empty(40,dtype=int)\n",
    "    s2 = np.empty(40,dtype=int)\n",
    "    s3 = np.empty(40,dtype=int)\n",
    "    s39 = np.empty(40,dtype=int)\n",
    "    scores = np.empty(40,dtype=int)\n",
    "\n",
    "    for i in range(0,40):\n",
    "        #Sorts the column pertaining to the query image and finds the 2nd, 3rd, and 4th lowest values (not the first because the lowest value for each image 0 is with itself.)\n",
    "        sorted_col = pd.DataFrame(np.column_stack(((np.arange(1,41,1)),scale_vals))).sort_values(by=(i+1))\n",
    "        #The #s of the best 3 targets and the worst.\n",
    "        best3 = sorted_col.iloc[[1,2,3,39]][0]\n",
    "        #The score between 0 and 1 that each of the images had\n",
    "        bestscores = sorted_col.iloc[[1,2,3,39]][i+1]\n",
    "\n",
    "        best_data.append(pd.concat([best3,bestscores],axis=1))\n",
    "\n",
    "    for i in range(0,40):\n",
    "        s1[i] = me.iloc[i][(best_data[i].iloc[0][0].astype('int16'))-1]\n",
    "        s2[i] = me.iloc[i][(best_data[i].iloc[1][0].astype('int16'))-1]\n",
    "        s3[i] = me.iloc[i][(best_data[i].iloc[2][0].astype('int16'))-1]\n",
    "        s39[i] = me.iloc[i][(best_data[i].iloc[3][0].astype('int16'))-1]\n",
    "\n",
    "        scores[i] = s1[i] + s2[i] + s3[i]\n",
    "\n",
    "    a_vec.append(a)\n",
    "    b_vec.append(b)\n",
    "    c_vec.append(c)\n",
    "    thescores.append(np.sum(scores))\n",
    "\n",
    "    count = count+1"
   ]
  },
  {
   "cell_type": "markdown",
   "metadata": {},
   "source": [
    "Returns the a, b, and c values the produced the maximum score."
   ]
  },
  {
   "cell_type": "code",
   "execution_count": 1287,
   "metadata": {},
   "outputs": [
    {
     "name": "stdout",
     "output_type": "stream",
     "text": [
      "a:  0.16530143618539272 \t b: 0.19851976110678066 \t c: 0.6361788027078266 \t score 102\n"
     ]
    }
   ],
   "source": [
    "index = thescores.index(np.max(thescores))\n",
    "thescores[index]\n",
    "\n",
    "print(\"a: \",a_vec[index],\"\\t b:\",b_vec[index],\"\\t c:\",c_vec[index],\"\\t score\",thescores[index])"
   ]
  },
  {
   "cell_type": "markdown",
   "metadata": {},
   "source": [
    "Plug those maximum values in and calculate how the top 3 results perform against my own weighted and unweighted opinions."
   ]
  },
  {
   "cell_type": "code",
   "execution_count": 1294,
   "metadata": {},
   "outputs": [
    {
     "name": "stdout",
     "output_type": "stream",
     "text": [
      "104 0\n",
      "[1. 0. 0. 1. 1. 0. 2. 2. 1. 1. 1. 1. 1. 2. 0. 1. 1. 1. 1. 0. 0. 1. 1. 1.\n",
      " 1. 1. 1. 0. 2. 1. 1. 0. 0. 0. 0. 1. 1. 1. 0. 1.] 32.0\n"
     ]
    }
   ],
   "source": [
    "a = .15 \n",
    "b = .2\n",
    "c = 1-(a+b)\n",
    "\n",
    "scale_color = a*color_scores\n",
    "scale_text = b*texture_vals\n",
    "scale_shape = c*shape_vals\n",
    "\n",
    "scale_vals = scale_color+scale_text+scale_shape\n",
    "\n",
    "best_data = []\n",
    "s1 = np.empty(40,dtype=int)\n",
    "s2 = np.empty(40,dtype=int)\n",
    "s3 = np.empty(40,dtype=int)\n",
    "s39 = np.empty(40,dtype=int)\n",
    "scores = np.empty(40,dtype=int)\n",
    "\n",
    "for i in range(0,40):\n",
    "    #Sorts the column pertaining to the query image and finds the 2nd, 3rd, and 4th lowest values (not the first because the lowest value for each image 0 is with itself.)\n",
    "    sorted_col = pd.DataFrame(np.column_stack(((np.arange(1,41,1)),scale_vals))).sort_values(by=(i+1))\n",
    "    #The #s of the best 3 targets and the worst.\n",
    "    best3 = sorted_col.iloc[[1,2,3,39]][0]\n",
    "    #The score between 0 and 1 that each of the images had\n",
    "    bestscores = sorted_col.iloc[[1,2,3,39]][i+1]\n",
    "\n",
    "    best_data.append(pd.concat([best3,bestscores],axis=1))\n",
    "    \n",
    "for i in range(0,40):\n",
    "    s1[i] = me.iloc[i][(best_data[i].iloc[0][0].astype('int16'))-1]\n",
    "    s2[i] = me.iloc[i][(best_data[i].iloc[1][0].astype('int16'))-1]\n",
    "    s3[i] = me.iloc[i][(best_data[i].iloc[2][0].astype('int16'))-1]\n",
    "    s39[i] = me.iloc[i][(best_data[i].iloc[3][0].astype('int16'))-1]\n",
    "    \n",
    "    scores[i] = s1[i] + s2[i] + s3[i]\n",
    "    \n",
    "print(np.sum(scores),np.sum(s39))\n",
    "\n",
    "intersect = np.empty(40)\n",
    "\n",
    "for i in range(0,40):\n",
    "    count = 0\n",
    "    for j in range(0,3):\n",
    "        for k in range(0,3):\n",
    "            if best_data[i][0].iloc[j] == mecols.iloc[i][k]:\n",
    "                count = count+1\n",
    "    intersect[i] = count\n",
    "    \n",
    "print(intersect, np.sum(intersect))"
   ]
  }
 ],
 "metadata": {
  "kernelspec": {
   "display_name": "Python 3",
   "language": "python",
   "name": "python3"
  },
  "language_info": {
   "codemirror_mode": {
    "name": "ipython",
    "version": 3
   },
   "file_extension": ".py",
   "mimetype": "text/x-python",
   "name": "python",
   "nbconvert_exporter": "python",
   "pygments_lexer": "ipython3",
   "version": "3.7.4"
  }
 },
 "nbformat": 4,
 "nbformat_minor": 2
}
